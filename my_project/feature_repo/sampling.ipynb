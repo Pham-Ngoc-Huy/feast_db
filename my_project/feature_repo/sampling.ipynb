{
 "cells": [
  {
   "cell_type": "code",
   "execution_count": 16,
   "metadata": {},
   "outputs": [],
   "source": [
    "from feature_template import driver_stats_fresh_fv, driver_stats_fv, driver\n",
    "from feast import FeatureStore, RepoConfig\n",
    "import pandas as pd\n",
    "from datetime import datetime\n",
    "import pytz"
   ]
  },
  {
   "cell_type": "code",
   "execution_count": 17,
   "metadata": {},
   "outputs": [],
   "source": [
    "fs = FeatureStore(repo_path=r\"E:/feast_db/my_project/feature_repo\")"
   ]
  },
  {
   "cell_type": "code",
   "execution_count": 19,
   "metadata": {},
   "outputs": [],
   "source": [
    "fs.apply([driver,driver_stats_fv, driver_stats_fresh_fv])"
   ]
  },
  {
   "cell_type": "code",
   "execution_count": 23,
   "metadata": {},
   "outputs": [],
   "source": [
    "df = pd.DataFrame.from_dict({\n",
    "    \"driver_id\": [1001, 1002, 1003, 1004],\n",
    "    \"event_timestamp\": [\n",
    "        datetime(2021, 4, 12, 10, 59, 42),\n",
    "        datetime(2021, 4, 12, 8,  12, 10),\n",
    "        datetime(2021, 4, 12, 16, 40, 26),\n",
    "        datetime(2021, 4, 12, 15, 1 , 12)\n",
    "    ]\n",
    "})"
   ]
  },
  {
   "cell_type": "code",
   "execution_count": 25,
   "metadata": {},
   "outputs": [
    {
     "name": "stdout",
     "output_type": "stream",
     "text": [
      "\n",
      "   driver_id           event_timestamp  conv_rate  acc_rate  avg_daily_trips\n",
      "0       1001 2021-04-12 10:59:42+00:00   0.566946  0.978494              981\n",
      "1       1002 2021-04-12 08:12:10+00:00   0.786480  0.891738              882\n",
      "2       1003 2021-04-12 16:40:26+00:00   0.217032  0.866702              170\n",
      "3       1004 2021-04-12 15:01:12+00:00   0.345235  0.022926              302\n"
     ]
    }
   ],
   "source": [
    "training_df = fs.get_historical_features(\n",
    "    features=[\n",
    "        'driver_hourly_stats:conv_rate',\n",
    "        'driver_hourly_stats:acc_rate',\n",
    "        'driver_hourly_stats:avg_daily_trips'\n",
    "    ],\n",
    "    entity_df=df\n",
    ").to_df()\n",
    "print()\n",
    "print(training_df)"
   ]
  },
  {
   "cell_type": "code",
   "execution_count": 26,
   "metadata": {},
   "outputs": [
    {
     "data": {
      "text/plain": [
       "[<FeatureView(name = driver_hourly_stats_fresh, entities = ['driver'], ttl = 1 day, 0:00:00, stream_source = {\n",
       "   \"type\": \"PUSH_SOURCE\",\n",
       "   \"name\": \"driver_stats_push_source\",\n",
       "   \"batchSource\": {\n",
       "     \"type\": \"BATCH_FILE\",\n",
       "     \"timestampField\": \"event_timestamp\",\n",
       "     \"createdTimestampColumn\": \"created\",\n",
       "     \"fileOptions\": {\n",
       "       \"uri\": \"data/driver_stats.parquet\"\n",
       "     },\n",
       "     \"name\": \"driver_hourly_stats_source\"\n",
       "   }\n",
       " }, batch_source = {\n",
       "   \"type\": \"BATCH_FILE\",\n",
       "   \"timestampField\": \"event_timestamp\",\n",
       "   \"createdTimestampColumn\": \"created\",\n",
       "   \"fileOptions\": {\n",
       "     \"uri\": \"data/driver_stats.parquet\"\n",
       "   },\n",
       "   \"name\": \"driver_hourly_stats_source\"\n",
       " }, entity_columns = [Field(\n",
       "     name='driver_id',\n",
       "     dtype=<PrimitiveFeastType.INT64: 4>,\n",
       "     description='',\n",
       "     tags={}\n",
       "     vector_index=False\n",
       "     vector_search_metric=''\n",
       " )], features = [Field(\n",
       "     name='conv_rate',\n",
       "     dtype=<PrimitiveFeastType.FLOAT32: 6>,\n",
       "     description='',\n",
       "     tags={}\n",
       "     vector_index=False\n",
       "     vector_search_metric=''\n",
       " ), Field(\n",
       "     name='acc_rate',\n",
       "     dtype=<PrimitiveFeastType.FLOAT32: 6>,\n",
       "     description='',\n",
       "     tags={}\n",
       "     vector_index=False\n",
       "     vector_search_metric=''\n",
       " ), Field(\n",
       "     name='avg_daily_trips',\n",
       "     dtype=<PrimitiveFeastType.INT64: 4>,\n",
       "     description='',\n",
       "     tags={}\n",
       "     vector_index=False\n",
       "     vector_search_metric=''\n",
       " )], description = , tags = {'team': 'driver_performance'}, owner = , projection = FeatureViewProjection(name='driver_hourly_stats_fresh', name_alias=None, desired_features=[], features=[Field(\n",
       "     name='conv_rate',\n",
       "     dtype=<PrimitiveFeastType.FLOAT32: 6>,\n",
       "     description='',\n",
       "     tags={}\n",
       "     vector_index=False\n",
       "     vector_search_metric=''\n",
       " ), Field(\n",
       "     name='acc_rate',\n",
       "     dtype=<PrimitiveFeastType.FLOAT32: 6>,\n",
       "     description='',\n",
       "     tags={}\n",
       "     vector_index=False\n",
       "     vector_search_metric=''\n",
       " ), Field(\n",
       "     name='avg_daily_trips',\n",
       "     dtype=<PrimitiveFeastType.INT64: 4>,\n",
       "     description='',\n",
       "     tags={}\n",
       "     vector_index=False\n",
       "     vector_search_metric=''\n",
       " )], join_key_map={}, timestamp_field='created', date_partition_column=None, created_timestamp_column='created', batch_source=<feast.infra.offline_stores.file_source.FileSource object at 0x000001550E47C110>), created_timestamp = 2025-04-13 14:48:56.620685, last_updated_timestamp = 2025-04-14 14:36:02.871363, source = {\n",
       "   \"type\": \"BATCH_FILE\",\n",
       "   \"timestampField\": \"event_timestamp\",\n",
       "   \"createdTimestampColumn\": \"created\",\n",
       "   \"fileOptions\": {\n",
       "     \"uri\": \"data/driver_stats.parquet\"\n",
       "   },\n",
       "   \"name\": \"driver_hourly_stats_source\"\n",
       " }, online = True, materialization_intervals = [(datetime.datetime(2025, 4, 12, 14, 49, 54, 520969, tzinfo=datetime.timezone.utc), datetime.datetime(2025, 4, 13, 14, 49, 49, tzinfo=datetime.timezone.utc)), (datetime.datetime(2024, 1, 1, 0, 0, tzinfo=datetime.timezone.utc), datetime.datetime(2025, 4, 13, 12, 0, tzinfo=datetime.timezone.utc)), (datetime.datetime(2025, 4, 13, 14, 49, 49, tzinfo=datetime.timezone.utc), datetime.datetime(2025, 4, 14, 14, 35, 59, tzinfo=datetime.timezone.utc))])>,\n",
       " <FeatureView(name = driver_hourly_stats, entities = ['driver'], ttl = 1 day, 0:00:00, stream_source = None, batch_source = {\n",
       "   \"type\": \"BATCH_FILE\",\n",
       "   \"timestampField\": \"event_timestamp\",\n",
       "   \"createdTimestampColumn\": \"created\",\n",
       "   \"fileOptions\": {\n",
       "     \"uri\": \"data/driver_stats.parquet\"\n",
       "   },\n",
       "   \"name\": \"driver_hourly_stats_source\"\n",
       " }, entity_columns = [Field(\n",
       "     name='driver_id',\n",
       "     dtype=<PrimitiveFeastType.INT64: 4>,\n",
       "     description='',\n",
       "     tags={}\n",
       "     vector_index=False\n",
       "     vector_search_metric=''\n",
       " )], features = [Field(\n",
       "     name='conv_rate',\n",
       "     dtype=<PrimitiveFeastType.FLOAT32: 6>,\n",
       "     description='',\n",
       "     tags={}\n",
       "     vector_index=False\n",
       "     vector_search_metric=''\n",
       " ), Field(\n",
       "     name='acc_rate',\n",
       "     dtype=<PrimitiveFeastType.FLOAT32: 6>,\n",
       "     description='',\n",
       "     tags={}\n",
       "     vector_index=False\n",
       "     vector_search_metric=''\n",
       " ), Field(\n",
       "     name='avg_daily_trips',\n",
       "     dtype=<PrimitiveFeastType.INT64: 4>,\n",
       "     description='Average daily trips',\n",
       "     tags={}\n",
       "     vector_index=False\n",
       "     vector_search_metric=''\n",
       " )], description = , tags = {'team': 'driver_performance'}, owner = , projection = FeatureViewProjection(name='driver_hourly_stats', name_alias=None, desired_features=[], features=[Field(\n",
       "     name='conv_rate',\n",
       "     dtype=<PrimitiveFeastType.FLOAT32: 6>,\n",
       "     description='',\n",
       "     tags={}\n",
       "     vector_index=False\n",
       "     vector_search_metric=''\n",
       " ), Field(\n",
       "     name='acc_rate',\n",
       "     dtype=<PrimitiveFeastType.FLOAT32: 6>,\n",
       "     description='',\n",
       "     tags={}\n",
       "     vector_index=False\n",
       "     vector_search_metric=''\n",
       " ), Field(\n",
       "     name='avg_daily_trips',\n",
       "     dtype=<PrimitiveFeastType.INT64: 4>,\n",
       "     description='Average daily trips',\n",
       "     tags={}\n",
       "     vector_index=False\n",
       "     vector_search_metric=''\n",
       " )], join_key_map={}, timestamp_field='created', date_partition_column=None, created_timestamp_column='created', batch_source=<feast.infra.offline_stores.file_source.FileSource object at 0x000001550D3E5D50>), created_timestamp = 2025-04-13 13:24:57.130296, last_updated_timestamp = 2025-04-14 14:36:02.921992, source = {\n",
       "   \"type\": \"BATCH_FILE\",\n",
       "   \"timestampField\": \"event_timestamp\",\n",
       "   \"createdTimestampColumn\": \"created\",\n",
       "   \"fileOptions\": {\n",
       "     \"uri\": \"data/driver_stats.parquet\"\n",
       "   },\n",
       "   \"name\": \"driver_hourly_stats_source\"\n",
       " }, online = True, materialization_intervals = [(datetime.datetime(2025, 4, 12, 13, 24, 57, 775406, tzinfo=datetime.timezone.utc), datetime.datetime(2025, 4, 13, 20, 24, 57, 771699, tzinfo=datetime.timezone.utc)), (datetime.datetime(2025, 4, 13, 20, 24, 57, 771699, tzinfo=datetime.timezone.utc), datetime.datetime(2025, 4, 13, 20, 56, 36, 230399, tzinfo=datetime.timezone.utc)), (datetime.datetime(2025, 4, 13, 20, 56, 36, 230399, tzinfo=datetime.timezone.utc), datetime.datetime(2025, 4, 13, 14, 2, 51, tzinfo=datetime.timezone.utc)), (datetime.datetime(2025, 4, 13, 20, 56, 36, 230399, tzinfo=datetime.timezone.utc), datetime.datetime(2025, 4, 13, 14, 2, 51, tzinfo=datetime.timezone.utc)), (datetime.datetime(2025, 4, 13, 20, 56, 36, 230399, tzinfo=datetime.timezone.utc), datetime.datetime(2025, 4, 13, 14, 2, 51, tzinfo=datetime.timezone.utc)), (datetime.datetime(2025, 4, 13, 20, 56, 36, 230399, tzinfo=datetime.timezone.utc), datetime.datetime(2025, 4, 13, 21, 6, 10, 639771, tzinfo=datetime.timezone.utc)), (datetime.datetime(2025, 4, 13, 21, 6, 10, 639771, tzinfo=datetime.timezone.utc), datetime.datetime(2025, 4, 13, 14, 2, 51, tzinfo=datetime.timezone.utc)), (datetime.datetime(2025, 4, 13, 21, 6, 10, 639771, tzinfo=datetime.timezone.utc), datetime.datetime(2025, 4, 13, 21, 7, 15, 710819, tzinfo=datetime.timezone.utc)), (datetime.datetime(2025, 4, 13, 21, 7, 15, 710819, tzinfo=datetime.timezone.utc), datetime.datetime(2025, 4, 13, 21, 7, 40, 22044, tzinfo=datetime.timezone.utc)), (datetime.datetime(2024, 1, 1, 0, 0, tzinfo=datetime.timezone.utc), datetime.datetime(2025, 4, 13, 14, 0, tzinfo=datetime.timezone.utc)), (datetime.datetime(2025, 4, 13, 21, 7, 40, 22044, tzinfo=datetime.timezone.utc), datetime.datetime(2025, 4, 13, 14, 2, 51, tzinfo=datetime.timezone.utc)), (datetime.datetime(2025, 4, 13, 21, 7, 40, 22044, tzinfo=datetime.timezone.utc), datetime.datetime(2025, 4, 13, 14, 18, 46, tzinfo=datetime.timezone.utc)), (datetime.datetime(2025, 4, 13, 21, 7, 40, 22044, tzinfo=datetime.timezone.utc), datetime.datetime(2025, 4, 13, 21, 21, 18, 733995, tzinfo=datetime.timezone.utc)), (datetime.datetime(2025, 4, 13, 21, 21, 18, 733995, tzinfo=datetime.timezone.utc), datetime.datetime(2025, 4, 13, 21, 22, 11, 224242, tzinfo=datetime.timezone.utc)), (datetime.datetime(2025, 4, 13, 21, 22, 11, 224242, tzinfo=datetime.timezone.utc), datetime.datetime(2025, 4, 13, 21, 23, 12, 905249, tzinfo=datetime.timezone.utc)), (datetime.datetime(2025, 4, 13, 21, 23, 12, 905249, tzinfo=datetime.timezone.utc), datetime.datetime(2025, 4, 13, 21, 23, 52, 807607, tzinfo=datetime.timezone.utc)), (datetime.datetime(2025, 4, 13, 21, 23, 52, 807607, tzinfo=datetime.timezone.utc), datetime.datetime(2025, 4, 13, 21, 26, 28, 818498, tzinfo=datetime.timezone.utc)), (datetime.datetime(2025, 4, 13, 21, 26, 28, 818498, tzinfo=datetime.timezone.utc), datetime.datetime(2025, 4, 13, 21, 32, 4, 624604, tzinfo=datetime.timezone.utc)), (datetime.datetime(2025, 4, 13, 21, 32, 4, 624604, tzinfo=datetime.timezone.utc), datetime.datetime(2025, 4, 13, 21, 39, 32, 767662, tzinfo=datetime.timezone.utc)), (datetime.datetime(2025, 4, 13, 21, 39, 32, 767662, tzinfo=datetime.timezone.utc), datetime.datetime(2025, 4, 13, 21, 40, 16, 868530, tzinfo=datetime.timezone.utc)), (datetime.datetime(2025, 4, 13, 21, 40, 16, 868530, tzinfo=datetime.timezone.utc), datetime.datetime(2025, 4, 13, 21, 41, 18, 406738, tzinfo=datetime.timezone.utc)), (datetime.datetime(2025, 4, 13, 21, 41, 18, 406738, tzinfo=datetime.timezone.utc), datetime.datetime(2025, 4, 13, 21, 46, 41, 775735, tzinfo=datetime.timezone.utc)), (datetime.datetime(2025, 4, 13, 21, 46, 41, 775735, tzinfo=datetime.timezone.utc), datetime.datetime(2025, 4, 13, 14, 49, 49, tzinfo=datetime.timezone.utc)), (datetime.datetime(2024, 1, 1, 0, 0, tzinfo=datetime.timezone.utc), datetime.datetime(2025, 4, 13, 12, 0, tzinfo=datetime.timezone.utc)), (datetime.datetime(2025, 4, 13, 21, 46, 41, 775735, tzinfo=datetime.timezone.utc), datetime.datetime(2025, 4, 14, 14, 35, 59, tzinfo=datetime.timezone.utc))])>]"
      ]
     },
     "execution_count": 26,
     "metadata": {},
     "output_type": "execute_result"
    }
   ],
   "source": [
    "fs.list_feature_views()"
   ]
  },
  {
   "cell_type": "code",
   "execution_count": 36,
   "metadata": {},
   "outputs": [],
   "source": [
    "online_feature_df = fs.get_online_features(\n",
    "    features=[\"driver_hourly_stats:conv_rate\", \"driver_hourly_stats:acc_rate\", \"driver_hourly_stats:avg_daily_trips\"],\n",
    "    entity_rows=[{\"driver_id\": 1005}]\n",
    ").to_dict()"
   ]
  },
  {
   "cell_type": "code",
   "execution_count": 37,
   "metadata": {},
   "outputs": [
    {
     "data": {
      "text/plain": [
       "{'driver_id': [1005],\n",
       " 'conv_rate': [0.6906761527061462],\n",
       " 'avg_daily_trips': [526],\n",
       " 'acc_rate': [0.6691997647285461]}"
      ]
     },
     "execution_count": 37,
     "metadata": {},
     "output_type": "execute_result"
    }
   ],
   "source": [
    "online_feature_df"
   ]
  }
 ],
 "metadata": {
  "kernelspec": {
   "display_name": ".venv",
   "language": "python",
   "name": "python3"
  },
  "language_info": {
   "codemirror_mode": {
    "name": "ipython",
    "version": 3
   },
   "file_extension": ".py",
   "mimetype": "text/x-python",
   "name": "python",
   "nbconvert_exporter": "python",
   "pygments_lexer": "ipython3",
   "version": "3.11.9"
  }
 },
 "nbformat": 4,
 "nbformat_minor": 2
}
